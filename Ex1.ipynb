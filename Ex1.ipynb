{
 "cells": [
  {
   "cell_type": "code",
   "execution_count": 77,
   "metadata": {},
   "outputs": [],
   "source": [
    "import codecs\n",
    "import re\n",
    "import json"
   ]
  },
  {
   "cell_type": "code",
   "execution_count": 62,
   "metadata": {},
   "outputs": [],
   "source": [
    "f = codecs.open(\"sample_data/wine-ratings_.csv\", encoding=\"utf-8\")\n",
    "data = f.readlines()"
   ]
  },
  {
   "cell_type": "code",
   "execution_count": 71,
   "metadata": {},
   "outputs": [
    {
     "name": "stdout",
     "output_type": "stream",
     "text": [
      "0,1000 Stories Bourbon Barrel Aged Batch Blue Carignan 2016,,\"Mendocino, California\",Red Wine,91.0,\"This is a very special, limited release of 1000 Stories Bourbon Barrel-Aged Carignan, their first-ever release of Carignan as a single varietal. Classic and rustic with a little edge. Look for notes of brilliantly racy red and black fruits set to a rich backdrop of toast, herbs, and cocoa.\"\n",
      "\n"
     ]
    }
   ],
   "source": [
    "print(data[1])"
   ]
  },
  {
   "cell_type": "code",
   "execution_count": 74,
   "metadata": {},
   "outputs": [],
   "source": [
    "color = {}\n",
    "rating = []\n",
    "region = {}\n",
    "COMMA_MATCHER = re.compile(r\",(?=(?:[^\\\"]*[\\\"][^\\\"]*[\\\"])*[^\\\"]*$)\")\n",
    "\n",
    "for item in data[1:]:\n",
    "    row = COMMA_MATCHER.split(item)    \n",
    "#    print(row[0])\n",
    "    color[row[1]] = row[4]\n",
    "    region[row[1]] = row[3]\n",
    "    #print(row[5])\n",
    "    if 90 <= float(row[5]) <= 92:\n",
    "        rating.append(row[1])\n",
    "\n",
    "\n"
   ]
  },
  {
   "cell_type": "code",
   "execution_count": 83,
   "metadata": {},
   "outputs": [],
   "source": [
    "with open('sample_data/wine_color.json', 'w') as f:\n",
    "    json.dump(color, f)\n",
    "with open('sample_data/wine_region.json', 'w') as f:\n",
    "    json.dump(region, f)\n",
    "with open('sample_data/top_wines.json', 'w') as f:\n",
    "    json.dump(rating, f)"
   ]
  },
  {
   "cell_type": "code",
   "execution_count": null,
   "metadata": {},
   "outputs": [],
   "source": []
  }
 ],
 "metadata": {
  "interpreter": {
   "hash": "ebd12b9c5c895d8d5ada5d428030c256f6f149efea4371a9293312a8d132d6a6"
  },
  "kernelspec": {
   "display_name": "Python 3.8.13 64-bit ('myenv': conda)",
   "language": "python",
   "name": "python3"
  },
  "language_info": {
   "codemirror_mode": {
    "name": "ipython",
    "version": 3
   },
   "file_extension": ".py",
   "mimetype": "text/x-python",
   "name": "python",
   "nbconvert_exporter": "python",
   "pygments_lexer": "ipython3",
   "version": "3.8.13"
  },
  "orig_nbformat": 4
 },
 "nbformat": 4,
 "nbformat_minor": 2
}
